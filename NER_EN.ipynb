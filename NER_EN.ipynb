{
  "cells": [
    {
      "cell_type": "code",
      "execution_count": 1,
      "metadata": {
        "id": "CGJktFHdHL1n",
        "colab": {
          "base_uri": "https://localhost:8080/"
        },
        "outputId": "4360b335-703c-4434-803c-8c3cd9a6a60a"
      },
      "outputs": [
        {
          "output_type": "stream",
          "name": "stdout",
          "text": [
            "\u001b[2K     \u001b[90m━━━━━━━━━━━━━━━━━━━━━━━━━━━━━━━━━━━━━━━━\u001b[0m \u001b[32m281.3/281.3 MB\u001b[0m \u001b[31m4.4 MB/s\u001b[0m eta \u001b[36m0:00:00\u001b[0m\n",
            "\u001b[?25h  Preparing metadata (setup.py) ... \u001b[?25l\u001b[?25hdone\n",
            "\u001b[2K     \u001b[90m━━━━━━━━━━━━━━━━━━━━━━━━━━━━━━━━━━━━━━━━\u001b[0m \u001b[32m51.8/51.8 kB\u001b[0m \u001b[31m4.6 MB/s\u001b[0m eta \u001b[36m0:00:00\u001b[0m\n",
            "\u001b[2K   \u001b[90m━━━━━━━━━━━━━━━━━━━━━━━━━━━━━━━━━━━━━━━━\u001b[0m \u001b[32m453.8/453.8 kB\u001b[0m \u001b[31m33.7 MB/s\u001b[0m eta \u001b[36m0:00:00\u001b[0m\n",
            "\u001b[2K   \u001b[90m━━━━━━━━━━━━━━━━━━━━━━━━━━━━━━━━━━━━━━━━\u001b[0m \u001b[32m199.7/199.7 kB\u001b[0m \u001b[31m17.3 MB/s\u001b[0m eta \u001b[36m0:00:00\u001b[0m\n",
            "\u001b[?25h  Building wheel for pyspark (setup.py) ... \u001b[?25l\u001b[?25hdone\n",
            "\u001b[2K   \u001b[90m━━━━━━━━━━━━━━━━━━━━━━━━━━━━━━━━━━━━━━━━\u001b[0m \u001b[32m95.6/95.6 kB\u001b[0m \u001b[31m3.3 MB/s\u001b[0m eta \u001b[36m0:00:00\u001b[0m\n",
            "\u001b[2K   \u001b[90m━━━━━━━━━━━━━━━━━━━━━━━━━━━━━━━━━━━━━━━━\u001b[0m \u001b[32m66.9/66.9 kB\u001b[0m \u001b[31m6.6 MB/s\u001b[0m eta \u001b[36m0:00:00\u001b[0m\n",
            "\u001b[2K   \u001b[90m━━━━━━━━━━━━━━━━━━━━━━━━━━━━━━━━━━━━━━━━\u001b[0m \u001b[32m1.6/1.6 MB\u001b[0m \u001b[31m23.6 MB/s\u001b[0m eta \u001b[36m0:00:00\u001b[0m\n",
            "\u001b[?25h"
          ]
        }
      ],
      "source": [
        "# Install PySpark and Spark NLP\n",
        "! pip install -q pyspark==3.3.0 spark-nlp==4.2.8\n",
        "\n",
        "# Install Spark NLP Display lib\n",
        "! pip install --upgrade -q spark-nlp-display"
      ]
    },
    {
      "cell_type": "code",
      "execution_count": 2,
      "metadata": {
        "id": "sw-t1zxlHTB7"
      },
      "outputs": [],
      "source": [
        "import json\n",
        "import pandas as pd\n",
        "import numpy as np\n",
        "\n",
        "import sparknlp\n",
        "import pyspark.sql.functions as F\n",
        "\n",
        "from pyspark.ml import Pipeline\n",
        "from pyspark.sql import SparkSession\n",
        "from sparknlp.annotator import *\n",
        "from sparknlp.base import *\n",
        "from sparknlp.pretrained import PretrainedPipeline\n",
        "from pyspark.sql.types import StringType, IntegerType"
      ]
    },
    {
      "cell_type": "code",
      "source": [
        "spark = sparknlp.start()\n",
        "\n",
        "print(\"Spark NLP version\", sparknlp.version())\n",
        "print(\"Apache Spark version:\", spark.version)\n",
        "\n",
        "spark"
      ],
      "metadata": {
        "colab": {
          "base_uri": "https://localhost:8080/",
          "height": 257
        },
        "id": "WJ8vrDJG4Uy5",
        "outputId": "2daea442-baba-443d-c14d-ef3a2494214f"
      },
      "execution_count": 3,
      "outputs": [
        {
          "output_type": "stream",
          "name": "stdout",
          "text": [
            "Spark NLP version 4.2.8\n",
            "Apache Spark version: 3.3.0\n"
          ]
        },
        {
          "output_type": "execute_result",
          "data": {
            "text/plain": [
              "<pyspark.sql.session.SparkSession at 0x7ee14b555a50>"
            ],
            "text/html": [
              "\n",
              "            <div>\n",
              "                <p><b>SparkSession - in-memory</b></p>\n",
              "                \n",
              "        <div>\n",
              "            <p><b>SparkContext</b></p>\n",
              "\n",
              "            <p><a href=\"http://79e31cfb8ca3:4040\">Spark UI</a></p>\n",
              "\n",
              "            <dl>\n",
              "              <dt>Version</dt>\n",
              "                <dd><code>v3.3.0</code></dd>\n",
              "              <dt>Master</dt>\n",
              "                <dd><code>local[*]</code></dd>\n",
              "              <dt>AppName</dt>\n",
              "                <dd><code>Spark NLP</code></dd>\n",
              "            </dl>\n",
              "        </div>\n",
              "        \n",
              "            </div>\n",
              "        "
            ]
          },
          "metadata": {},
          "execution_count": 3
        }
      ]
    },
    {
      "cell_type": "code",
      "execution_count": 4,
      "metadata": {
        "id": "LLuDz_t40be4"
      },
      "outputs": [],
      "source": [
        "# Select DL model\n",
        "# If you change the model, re-run all the cells below\n",
        "# Other applicable models: ner_dl, ner_dl_bert\n",
        "MODEL_NAME = \"onto_100\""
      ]
    },
    {
      "cell_type": "code",
      "execution_count": 5,
      "metadata": {
        "id": "vBOKkB2THdGI"
      },
      "outputs": [],
      "source": [
        "# Text taken from user's upload\n",
        "text_list = [\n",
        "    \"\"\"14\n",
        " 6 Community  paediatrics  example\n",
        "\n",
        "Community  Paediatrics  Clinic,  Adobe  Health  Centre,  Donaldstown,  DO1  4XP (01234)  567890\n",
        "Adam  Rimmer,  Community  Paediatrician  cpc@nhs.uk\n",
        "\n",
        "Outpatient  letter  to General  practitioner\n",
        "Patient demographics  Attendance details\n",
        "Patient name  Miss  Mary Jones  Date of\n",
        "appointment/contact  01/05/2017\n",
        "Date of birth  01/0 2/2013  Contact type  Follow -up\n",
        "Gender  Female  Consultation method  Face -to-face\n",
        "NHS number . 124352319 Seen by  Dr. Adam Rimmer, Consultant\n",
        "paediatrician\n",
        "Hospital ID  TL5694 5  (01234) 56 4563\n",
        "Patient  address  31 Acacia Road , BM9\n",
        "6PL Care professional s\n",
        "present  Jenny White, Occupational therapist\n",
        "Sarah Hall, H ealth care assistant\n",
        "  Person accompanying\n",
        "patient  Sally Jones, mother\n",
        "  Outcome  of outpatient\n",
        "attendance  Appointment will be made at a later\n",
        "date\n",
        "Relevant contacts  Sally and Ian Jones\n",
        "(parents)  GP Practice\n",
        "Patient e mail\n",
        "address  sally @jones .net GP practice identifier  A111111\n",
        "Patient t elephone\n",
        "number  077 1234  7777 GP name  Dr  C. O’Reilly\n",
        "Educational\n",
        "establishment  Greenacre School,\n",
        "Donaldstown  DO5  6AA GP details  Canvas Health Centre, 27 Acacia Road,\n",
        "BM9 6PM (01234) 956412\n",
        "\n",
        "Diagnoses  Problems and issues\n",
        "1. Grand mal epilepsy ,\n",
        "2. Gastro -oesophageal reflux ,\n",
        "3. Spastic quadriplegia secondary to birth asphyxia ,\n",
        "4. Cortical visual impairment ,\n",
        "5. Bilateral convergent squint ,\n",
        "6. General learning difficulties . 1. Increased tonic -clonic convulsions ,\n",
        "2. Problems with transport to school ,\n",
        "3. Increasingly tight righ t hip .\n",
        "\n",
        "Dear  Dr. O’Reilly,\n",
        "\n",
        "I had the pleasure  of seeing  Mary  and her mother  Sally  in my outpatient  clinic  today.\n",
        "\n",
        "Clinical summary\n",
        "Mary attended today for a scheduled review . Mary ’s epilepsy is not well controlled at present . She is  having on\n",
        "average four tonic -clonic  seizures a day. Her mother has had to give her rectal diazepam on two occasions but she\n",
        "has not needed to go to hospital. She had a PEG inserted in April 2017 and her reflux has reduced considerably\n",
        "since then.  She has increasing spasticity of right hip .\n",
        "\n",
        "Allergies and adverse reactions  No known allergies or adverse reactions.\n",
        "\n",
        "Social context\n",
        "Educational history  Mary started at Greenacre School in September. She enjoys it and the teachers are\n",
        "pleased with her progress.  Her mother has been taking  her to school by car but this is\n",
        "\n",
        " 15\n",
        " becoming an increasing problem as due to recent changes  at work she now has to start\n",
        "work at 8:30. Unfortunately Mary is not eligible for free school transport until she is five\n",
        "years old. The home -school liaison teacher is trying to come to an agreement with the\n",
        "local authority to enable Mary to use school trans port.  The teacher for visual impairment\n",
        "has seen her in school and recommended that she use large print books and a magnifying\n",
        "glass.\n",
        "\n",
        "Review of systems\n",
        "Neurodevelopmental  assessment\n",
        "Mary can now sit unsupported for about 30 seconds. When lying prone she can draw her knees up underneath her\n",
        "but does not make any attempts to move. In clinic she was able to complete the circle and square form board but\n",
        "cannot do them reversed. She can say 10 words with meaning and her mother feels she can understan d far more.\n",
        "She is able to finger feed and will drink from a cup if it is held for her. She is becoming more sociable and has a\n",
        "lovely smile.\n",
        "\n",
        "Examination findings\n",
        "Musculosketal system & nervous\n",
        "system  Mary's ankles both dorsiflex  to 90°.  Her hips are very tight; the right hip only\n",
        "abducts to 30° and the left hip to 45°. The right hip has deteriorated .\n",
        "Dental  No evidence of dental caries.\n",
        "\n",
        "Plan and requested action s\n",
        "\n",
        "Actions for patient or their carer\n",
        "Mrs. Jones to contact epilepsy nurse on 01226 730000 if she has any concerns regarding convulsions  or\n",
        "the medication change  documented below .\n",
        "\n",
        "\n",
        "Action s for healthcare professionals                                                               Action by:\n",
        "Request to orthopaedics for early appointment for advice on\n",
        "deteriorating right hip\n",
        " Dr. Adam Rimmer, 01/05/17\n",
        "Letter of support to  the local authority  education department\n",
        "regarding school transport\n",
        " Dr. Adam Rimmer, 01/05/17\n",
        "Review medication with Sally’s mother by telephone in two weeks . Mr Phil Brown, epilepsy nurse\n",
        "\n",
        "Medication and medical devices\n",
        "(only changes to medications and medical devices as a result of the outpatient encounter are included)\n",
        "Medication name  Lamotrigine\n",
        "Form Dispersible tablets\n",
        "Route  Via gastrostomy\n",
        "Dose  10 mg\n",
        "Dose direction  Twice a day\n",
        "Status  Amended\n",
        "Reason for medication\n",
        "change  Increasing tonic -clonic  convulsions\n",
        "Date of latest change  01/05/17\n",
        "Medication change  Increase to 10mg twice daily\n",
        "Comment /recommendation  14-day prescription provided, please p rovide a new prescription on parent’s\n",
        "request .\n",
        "Total dose daily quantity  20mg\n",
        "\n",
        "\n",
        "\n",
        " 16\n",
        " Yours  sincerely\n",
        "\n",
        "\n",
        "Person  completing  record : Dr. Adam  Rimmer,  Consultant  community  paediatrician;  Date:  01/05/17 : 16:42\n",
        "\n",
        "Distribution  list: Sally  & Ian Jones  (patient’s  parents);\n",
        "Dr.  C. O’Reilly  (GP)\n",
        "Dr. Charlotte  Worth,  Consultant  orthopaedic  physician,  St. Crispin’s  Hospital;\n",
        "Mr. Philip  Brown,  epilepsy  nurse,  St. Crispin’s  Hospital\n",
        "    \"\"\"]"
      ]
    },
    {
      "cell_type": "code",
      "execution_count": 6,
      "metadata": {
        "colab": {
          "base_uri": "https://localhost:8080/"
        },
        "id": "lBggF5P8J1gc",
        "outputId": "b449feea-29b0-4335-eab9-732e3109053c"
      },
      "outputs": [
        {
          "output_type": "stream",
          "name": "stdout",
          "text": [
            "glove_100d download started this may take some time.\n",
            "Approximate size to download 145.3 MB\n",
            "[OK!]\n",
            "onto_100 download started this may take some time.\n",
            "Approximate size to download 13.5 MB\n",
            "[OK!]\n"
          ]
        }
      ],
      "source": [
        "documentAssembler = DocumentAssembler() \\\n",
        "    .setInputCol('text') \\\n",
        "    .setOutputCol('document')\n",
        "\n",
        "tokenizer = Tokenizer() \\\n",
        "    .setInputCols(['document']) \\\n",
        "    .setOutputCol('token')\n",
        "\n",
        "# ner_dl and onto_100 model are trained with glove_100d, so the embeddings in\n",
        "# the pipeline should match\n",
        "if (MODEL_NAME == \"ner_dl\") or (MODEL_NAME == \"onto_100\"):\n",
        "    embeddings = WordEmbeddingsModel.pretrained('glove_100d') \\\n",
        "        .setInputCols([\"document\", 'token']) \\\n",
        "        .setOutputCol(\"embeddings\")\n",
        "\n",
        "# Bert model uses Bert embeddings\n",
        "elif MODEL_NAME == \"ner_dl_bert\":\n",
        "    embeddings = BertEmbeddings.pretrained(name='bert_base_cased', lang='en') \\\n",
        "        .setInputCols(['document', 'token']) \\\n",
        "        .setOutputCol('embeddings')\n",
        "\n",
        "ner_model = NerDLModel.pretrained(MODEL_NAME, 'en') \\\n",
        "    .setInputCols(['document', 'token', 'embeddings']) \\\n",
        "    .setOutputCol('ner')\n",
        "\n",
        "ner_converter = NerConverter() \\\n",
        "    .setInputCols(['document', 'token', 'ner']) \\\n",
        "    .setOutputCol('ner_chunk')\n",
        "\n",
        "nlp_pipeline = Pipeline(\n",
        "    stages=[\n",
        "        documentAssembler,\n",
        "        tokenizer,\n",
        "        embeddings,\n",
        "        ner_model,\n",
        "        ner_converter])"
      ]
    },
    {
      "cell_type": "code",
      "execution_count": 7,
      "metadata": {
        "id": "EYf_9sXDXR4t"
      },
      "outputs": [],
      "source": [
        "# Run pipeline\n",
        "df = spark.createDataFrame(text_list, StringType()).toDF(\"text\")\n",
        "result = nlp_pipeline.fit(df).transform(df)"
      ]
    },
    {
      "cell_type": "code",
      "execution_count": 8,
      "metadata": {
        "colab": {
          "base_uri": "https://localhost:8080/",
          "height": 1000
        },
        "id": "B0P1hm_D3gGx",
        "outputId": "b734e8d5-989b-4701-e25b-5ce736b50982"
      },
      "outputs": [
        {
          "output_type": "display_data",
          "data": {
            "text/plain": [
              "<IPython.core.display.HTML object>"
            ],
            "text/html": [
              "\n",
              "<style>\n",
              "    @import url('https://fonts.googleapis.com/css2?family=Montserrat:wght@300;400;500;600;700&display=swap');\n",
              "    @import url('https://fonts.googleapis.com/css2?family=Vistol Regular:wght@300;400;500;600;700&display=swap');\n",
              "    \n",
              "    .spark-nlp-display-scroll-entities {\n",
              "        border: 1px solid #E7EDF0;\n",
              "        border-radius: 3px;\n",
              "        text-align: justify;\n",
              "        \n",
              "    }\n",
              "    .spark-nlp-display-scroll-entities span {  \n",
              "        font-size: 14px;\n",
              "        line-height: 24px;\n",
              "        color: #536B76;\n",
              "        font-family: 'Montserrat', sans-serif !important;\n",
              "    }\n",
              "    \n",
              "    .spark-nlp-display-entity-wrapper{\n",
              "    \n",
              "        display: inline-grid;\n",
              "        text-align: center;\n",
              "        border-radius: 4px;\n",
              "        margin: 0 2px 5px 2px;\n",
              "        padding: 1px\n",
              "    }\n",
              "    .spark-nlp-display-entity-name{\n",
              "        font-size: 14px;\n",
              "        line-height: 24px;\n",
              "        font-family: 'Montserrat', sans-serif !important;\n",
              "        \n",
              "        background: #f1f2f3;\n",
              "        border-width: medium;\n",
              "        text-align: center;\n",
              "        \n",
              "        font-weight: 400;\n",
              "        \n",
              "        border-radius: 5px;\n",
              "        padding: 2px 5px;\n",
              "        display: block;\n",
              "        margin: 3px 2px;\n",
              "    \n",
              "    }\n",
              "    .spark-nlp-display-entity-type{\n",
              "        font-size: 14px;\n",
              "        line-height: 24px;\n",
              "        color: #ffffff;\n",
              "        font-family: 'Montserrat', sans-serif !important;\n",
              "        \n",
              "        text-transform: uppercase;\n",
              "        \n",
              "        font-weight: 500;\n",
              "\n",
              "        display: block;\n",
              "        padding: 3px 5px;\n",
              "    }\n",
              "    \n",
              "    .spark-nlp-display-entity-resolution{\n",
              "        font-size: 14px;\n",
              "        line-height: 24px;\n",
              "        color: #ffffff;\n",
              "        font-family: 'Vistol Regular', sans-serif !important;\n",
              "        \n",
              "        text-transform: uppercase;\n",
              "        \n",
              "        font-weight: 500;\n",
              "\n",
              "        display: block;\n",
              "        padding: 3px 5px;\n",
              "    }\n",
              "    \n",
              "    .spark-nlp-display-others{\n",
              "        font-size: 14px;\n",
              "        line-height: 24px;\n",
              "        font-family: 'Montserrat', sans-serif !important;\n",
              "        \n",
              "        font-weight: 400;\n",
              "    }\n",
              "\n",
              "</style>\n",
              " <span class=\"spark-nlp-display-entity-wrapper\" style=\"background-color: #2FC740\"><span class=\"spark-nlp-display-entity-name\">14 <br> 6 </span><span class=\"spark-nlp-display-entity-type\">CARDINAL</span></span><span class=\"spark-nlp-display-others\" style=\"background-color: white\"> Community  paediatrics  example  <br> <br></span><span class=\"spark-nlp-display-entity-wrapper\" style=\"background-color: #8A5C0A\"><span class=\"spark-nlp-display-entity-name\">Community  Paediatrics  Clinic </span><span class=\"spark-nlp-display-entity-type\">ORG</span></span><span class=\"spark-nlp-display-others\" style=\"background-color: white\">,  </span><span class=\"spark-nlp-display-entity-wrapper\" style=\"background-color: #8A5C0A\"><span class=\"spark-nlp-display-entity-name\">Adobe  Health  Centre </span><span class=\"spark-nlp-display-entity-type\">ORG</span></span><span class=\"spark-nlp-display-others\" style=\"background-color: white\">,  </span><span class=\"spark-nlp-display-entity-wrapper\" style=\"background-color: #23599B\"><span class=\"spark-nlp-display-entity-name\">Donaldstown </span><span class=\"spark-nlp-display-entity-type\">GPE</span></span><span class=\"spark-nlp-display-others\" style=\"background-color: white\">,  </span><span class=\"spark-nlp-display-entity-wrapper\" style=\"background-color: #72577A\"><span class=\"spark-nlp-display-entity-name\">DO1  4XP </span><span class=\"spark-nlp-display-entity-type\">PERSON</span></span><span class=\"spark-nlp-display-others\" style=\"background-color: white\"> (</span><span class=\"spark-nlp-display-entity-wrapper\" style=\"background-color: #2FC740\"><span class=\"spark-nlp-display-entity-name\">01234 </span><span class=\"spark-nlp-display-entity-type\">CARDINAL</span></span><span class=\"spark-nlp-display-others\" style=\"background-color: white\">)  </span><span class=\"spark-nlp-display-entity-wrapper\" style=\"background-color: #2FC740\"><span class=\"spark-nlp-display-entity-name\">567890 </span><span class=\"spark-nlp-display-entity-type\">CARDINAL</span></span><span class=\"spark-nlp-display-others\" style=\"background-color: white\">  <br></span><span class=\"spark-nlp-display-entity-wrapper\" style=\"background-color: #72577A\"><span class=\"spark-nlp-display-entity-name\">Adam  Rimmer </span><span class=\"spark-nlp-display-entity-type\">PERSON</span></span><span class=\"spark-nlp-display-others\" style=\"background-color: white\">,  </span><span class=\"spark-nlp-display-entity-wrapper\" style=\"background-color: #8A5C0A\"><span class=\"spark-nlp-display-entity-name\">Community  Paediatrician  cpc@nhs.uk  <br> <br>Outpatient </span><span class=\"spark-nlp-display-entity-type\">ORG</span></span><span class=\"spark-nlp-display-others\" style=\"background-color: white\">  letter  to General  practitioner  <br>Patient demographics  Attendance details  <br>Patient name  Miss  </span><span class=\"spark-nlp-display-entity-wrapper\" style=\"background-color: #72577A\"><span class=\"spark-nlp-display-entity-name\">Mary Jones  Date </span><span class=\"spark-nlp-display-entity-type\">PERSON</span></span><span class=\"spark-nlp-display-others\" style=\"background-color: white\"> of <br>appointment/contact  </span><span class=\"spark-nlp-display-entity-wrapper\" style=\"background-color: #a6b1e1\"><span class=\"spark-nlp-display-entity-name\">01/05/2017  <br>Date of birth  01/0 2/2013 </span><span class=\"spark-nlp-display-entity-type\">DATE</span></span><span class=\"spark-nlp-display-others\" style=\"background-color: white\">  Contact type  Follow -up <br>Gender  Female  Consultation method  Face -to-face  <br>NHS number . </span><span class=\"spark-nlp-display-entity-wrapper\" style=\"background-color: #2FC740\"><span class=\"spark-nlp-display-entity-name\">124352319 </span><span class=\"spark-nlp-display-entity-type\">CARDINAL</span></span><span class=\"spark-nlp-display-others\" style=\"background-color: white\"> Seen by  Dr. </span><span class=\"spark-nlp-display-entity-wrapper\" style=\"background-color: #72577A\"><span class=\"spark-nlp-display-entity-name\">Adam Rimmer </span><span class=\"spark-nlp-display-entity-type\">PERSON</span></span><span class=\"spark-nlp-display-others\" style=\"background-color: white\">, Consultant <br>paediatrician  <br>Hospital ID  </span><span class=\"spark-nlp-display-entity-wrapper\" style=\"background-color: #a6b1e1\"><span class=\"spark-nlp-display-entity-name\">TL5694 5 </span><span class=\"spark-nlp-display-entity-type\">DATE</span></span><span class=\"spark-nlp-display-others\" style=\"background-color: white\">  (</span><span class=\"spark-nlp-display-entity-wrapper\" style=\"background-color: #2FC740\"><span class=\"spark-nlp-display-entity-name\">01234 </span><span class=\"spark-nlp-display-entity-type\">CARDINAL</span></span><span class=\"spark-nlp-display-others\" style=\"background-color: white\">) </span><span class=\"spark-nlp-display-entity-wrapper\" style=\"background-color: #2FC740\"><span class=\"spark-nlp-display-entity-name\">56 4563 </span><span class=\"spark-nlp-display-entity-type\">CARDINAL</span></span><span class=\"spark-nlp-display-others\" style=\"background-color: white\">  <br>Patient  address  </span><span class=\"spark-nlp-display-entity-wrapper\" style=\"background-color: #2FC740\"><span class=\"spark-nlp-display-entity-name\">31 </span><span class=\"spark-nlp-display-entity-type\">CARDINAL</span></span><span class=\"spark-nlp-display-others\" style=\"background-color: white\"> Acacia Road , </span><span class=\"spark-nlp-display-entity-wrapper\" style=\"background-color: #2FC740\"><span class=\"spark-nlp-display-entity-name\">BM9 </span><span class=\"spark-nlp-display-entity-type\">CARDINAL</span></span><span class=\"spark-nlp-display-others\" style=\"background-color: white\"> <br>6PL Care professional s <br>present  </span><span class=\"spark-nlp-display-entity-wrapper\" style=\"background-color: #72577A\"><span class=\"spark-nlp-display-entity-name\">Jenny White </span><span class=\"spark-nlp-display-entity-type\">PERSON</span></span><span class=\"spark-nlp-display-others\" style=\"background-color: white\">, Occupational therapist  <br></span><span class=\"spark-nlp-display-entity-wrapper\" style=\"background-color: #72577A\"><span class=\"spark-nlp-display-entity-name\">Sarah Hall </span><span class=\"spark-nlp-display-entity-type\">PERSON</span></span><span class=\"spark-nlp-display-others\" style=\"background-color: white\">, H ealth care assistant  <br>  Person accompanying <br>patient  </span><span class=\"spark-nlp-display-entity-wrapper\" style=\"background-color: #72577A\"><span class=\"spark-nlp-display-entity-name\">Sally Jones </span><span class=\"spark-nlp-display-entity-type\">PERSON</span></span><span class=\"spark-nlp-display-others\" style=\"background-color: white\">, mother  <br>  Outcome  of outpatient <br>attendance  Appointment will be made at </span><span class=\"spark-nlp-display-entity-wrapper\" style=\"background-color: #a6b1e1\"><span class=\"spark-nlp-display-entity-name\">a later <br>date </span><span class=\"spark-nlp-display-entity-type\">DATE</span></span><span class=\"spark-nlp-display-others\" style=\"background-color: white\">  <br>Relevant contacts  </span><span class=\"spark-nlp-display-entity-wrapper\" style=\"background-color: #72577A\"><span class=\"spark-nlp-display-entity-name\">Sally </span><span class=\"spark-nlp-display-entity-type\">PERSON</span></span><span class=\"spark-nlp-display-others\" style=\"background-color: white\"> and </span><span class=\"spark-nlp-display-entity-wrapper\" style=\"background-color: #72577A\"><span class=\"spark-nlp-display-entity-name\">Ian Jones </span><span class=\"spark-nlp-display-entity-type\">PERSON</span></span><span class=\"spark-nlp-display-others\" style=\"background-color: white\"> <br>(parents)  GP Practice   <br>Patient e mail <br>address  sally @jones .net GP practice identifier  </span><span class=\"spark-nlp-display-entity-wrapper\" style=\"background-color: #2FC740\"><span class=\"spark-nlp-display-entity-name\">A111111 </span><span class=\"spark-nlp-display-entity-type\">CARDINAL</span></span><span class=\"spark-nlp-display-others\" style=\"background-color: white\">  <br>Patient t elephone <br>number  </span><span class=\"spark-nlp-display-entity-wrapper\" style=\"background-color: #2FC740\"><span class=\"spark-nlp-display-entity-name\">077 1234 </span><span class=\"spark-nlp-display-entity-type\">CARDINAL</span></span><span class=\"spark-nlp-display-others\" style=\"background-color: white\">  7777 GP name  Dr  C. O’Reilly  <br>Educational <br>establishment  </span><span class=\"spark-nlp-display-entity-wrapper\" style=\"background-color: #8A5C0A\"><span class=\"spark-nlp-display-entity-name\">Greenacre School </span><span class=\"spark-nlp-display-entity-type\">ORG</span></span><span class=\"spark-nlp-display-others\" style=\"background-color: white\">, <br>Donaldstown  DO5  6AA GP details  </span><span class=\"spark-nlp-display-entity-wrapper\" style=\"background-color: #174D05\"><span class=\"spark-nlp-display-entity-name\">Canvas Health Centre </span><span class=\"spark-nlp-display-entity-type\">WORK_OF_ART</span></span><span class=\"spark-nlp-display-others\" style=\"background-color: white\">, </span><span class=\"spark-nlp-display-entity-wrapper\" style=\"background-color: #2FC740\"><span class=\"spark-nlp-display-entity-name\">27 </span><span class=\"spark-nlp-display-entity-type\">CARDINAL</span></span><span class=\"spark-nlp-display-others\" style=\"background-color: white\"> Acacia Road, <br></span><span class=\"spark-nlp-display-entity-wrapper\" style=\"background-color: #3F7C67\"><span class=\"spark-nlp-display-entity-name\">BM9 6PM </span><span class=\"spark-nlp-display-entity-type\">TIME</span></span><span class=\"spark-nlp-display-others\" style=\"background-color: white\"> (</span><span class=\"spark-nlp-display-entity-wrapper\" style=\"background-color: #2FC740\"><span class=\"spark-nlp-display-entity-name\">01234 </span><span class=\"spark-nlp-display-entity-type\">CARDINAL</span></span><span class=\"spark-nlp-display-others\" style=\"background-color: white\">) </span><span class=\"spark-nlp-display-entity-wrapper\" style=\"background-color: #2FC740\"><span class=\"spark-nlp-display-entity-name\">956412 </span><span class=\"spark-nlp-display-entity-type\">CARDINAL</span></span><span class=\"spark-nlp-display-others\" style=\"background-color: white\">  <br> <br>Diagnoses  Problems and issues  <br></span><span class=\"spark-nlp-display-entity-wrapper\" style=\"background-color: #2FC740\"><span class=\"spark-nlp-display-entity-name\">1 </span><span class=\"spark-nlp-display-entity-type\">CARDINAL</span></span><span class=\"spark-nlp-display-others\" style=\"background-color: white\">. Grand mal epilepsy , <br></span><span class=\"spark-nlp-display-entity-wrapper\" style=\"background-color: #2FC740\"><span class=\"spark-nlp-display-entity-name\">2 </span><span class=\"spark-nlp-display-entity-type\">CARDINAL</span></span><span class=\"spark-nlp-display-others\" style=\"background-color: white\">. Gastro -oesophageal reflux ,  <br></span><span class=\"spark-nlp-display-entity-wrapper\" style=\"background-color: #2FC740\"><span class=\"spark-nlp-display-entity-name\">3 </span><span class=\"spark-nlp-display-entity-type\">CARDINAL</span></span><span class=\"spark-nlp-display-others\" style=\"background-color: white\">. Spastic quadriplegia secondary to birth asphyxia ,  <br></span><span class=\"spark-nlp-display-entity-wrapper\" style=\"background-color: #2FC740\"><span class=\"spark-nlp-display-entity-name\">4 </span><span class=\"spark-nlp-display-entity-type\">CARDINAL</span></span><span class=\"spark-nlp-display-others\" style=\"background-color: white\">. Cortical visual impairment ,  <br></span><span class=\"spark-nlp-display-entity-wrapper\" style=\"background-color: #2FC740\"><span class=\"spark-nlp-display-entity-name\">5 </span><span class=\"spark-nlp-display-entity-type\">CARDINAL</span></span><span class=\"spark-nlp-display-others\" style=\"background-color: white\">. Bilateral convergent squint ,  <br></span><span class=\"spark-nlp-display-entity-wrapper\" style=\"background-color: #2FC740\"><span class=\"spark-nlp-display-entity-name\">6 </span><span class=\"spark-nlp-display-entity-type\">CARDINAL</span></span><span class=\"spark-nlp-display-others\" style=\"background-color: white\">. General learning difficulties . </span><span class=\"spark-nlp-display-entity-wrapper\" style=\"background-color: #2FC740\"><span class=\"spark-nlp-display-entity-name\">1 </span><span class=\"spark-nlp-display-entity-type\">CARDINAL</span></span><span class=\"spark-nlp-display-others\" style=\"background-color: white\">. Increased tonic -clonic convulsions , <br></span><span class=\"spark-nlp-display-entity-wrapper\" style=\"background-color: #2FC740\"><span class=\"spark-nlp-display-entity-name\">2 </span><span class=\"spark-nlp-display-entity-type\">CARDINAL</span></span><span class=\"spark-nlp-display-others\" style=\"background-color: white\">. Problems with transport to school , <br></span><span class=\"spark-nlp-display-entity-wrapper\" style=\"background-color: #2FC740\"><span class=\"spark-nlp-display-entity-name\">3 </span><span class=\"spark-nlp-display-entity-type\">CARDINAL</span></span><span class=\"spark-nlp-display-others\" style=\"background-color: white\">. Increasingly tight righ t hip . <br> <br>Dear  Dr. O’Reilly,  <br> <br>I had the pleasure  of seeing  </span><span class=\"spark-nlp-display-entity-wrapper\" style=\"background-color: #72577A\"><span class=\"spark-nlp-display-entity-name\">Mary </span><span class=\"spark-nlp-display-entity-type\">PERSON</span></span><span class=\"spark-nlp-display-others\" style=\"background-color: white\">  and her mother  </span><span class=\"spark-nlp-display-entity-wrapper\" style=\"background-color: #72577A\"><span class=\"spark-nlp-display-entity-name\">Sally </span><span class=\"spark-nlp-display-entity-type\">PERSON</span></span><span class=\"spark-nlp-display-others\" style=\"background-color: white\">  in my outpatient  clinic  </span><span class=\"spark-nlp-display-entity-wrapper\" style=\"background-color: #a6b1e1\"><span class=\"spark-nlp-display-entity-name\">today </span><span class=\"spark-nlp-display-entity-type\">DATE</span></span><span class=\"spark-nlp-display-others\" style=\"background-color: white\">.  <br> <br>Clinical summary  <br></span><span class=\"spark-nlp-display-entity-wrapper\" style=\"background-color: #72577A\"><span class=\"spark-nlp-display-entity-name\">Mary </span><span class=\"spark-nlp-display-entity-type\">PERSON</span></span><span class=\"spark-nlp-display-others\" style=\"background-color: white\"> attended </span><span class=\"spark-nlp-display-entity-wrapper\" style=\"background-color: #a6b1e1\"><span class=\"spark-nlp-display-entity-name\">today </span><span class=\"spark-nlp-display-entity-type\">DATE</span></span><span class=\"spark-nlp-display-others\" style=\"background-color: white\"> for a scheduled review . </span><span class=\"spark-nlp-display-entity-wrapper\" style=\"background-color: #72577A\"><span class=\"spark-nlp-display-entity-name\">Mary </span><span class=\"spark-nlp-display-entity-type\">PERSON</span></span><span class=\"spark-nlp-display-others\" style=\"background-color: white\"> ’s epilepsy is not well controlled at present . She is  having on <br>average </span><span class=\"spark-nlp-display-entity-wrapper\" style=\"background-color: #2FC740\"><span class=\"spark-nlp-display-entity-name\">four </span><span class=\"spark-nlp-display-entity-type\">CARDINAL</span></span><span class=\"spark-nlp-display-others\" style=\"background-color: white\"> tonic -clonic  seizures a day. Her mother has had to give her rectal diazepam on </span><span class=\"spark-nlp-display-entity-wrapper\" style=\"background-color: #2FC740\"><span class=\"spark-nlp-display-entity-name\">two </span><span class=\"spark-nlp-display-entity-type\">CARDINAL</span></span><span class=\"spark-nlp-display-others\" style=\"background-color: white\"> occasions but she <br>has not needed to go to hospital. She had a PEG inserted in </span><span class=\"spark-nlp-display-entity-wrapper\" style=\"background-color: #a6b1e1\"><span class=\"spark-nlp-display-entity-name\">April 2017 </span><span class=\"spark-nlp-display-entity-type\">DATE</span></span><span class=\"spark-nlp-display-others\" style=\"background-color: white\"> and her reflux has reduced considerably <br>since then.  She has increasing spasticity of right hip . <br> <br>Allergies and adverse reactions  No known allergies or adverse reactions.  <br> <br>Social context   <br>Educational history  </span><span class=\"spark-nlp-display-entity-wrapper\" style=\"background-color: #72577A\"><span class=\"spark-nlp-display-entity-name\">Mary </span><span class=\"spark-nlp-display-entity-type\">PERSON</span></span><span class=\"spark-nlp-display-others\" style=\"background-color: white\"> started at </span><span class=\"spark-nlp-display-entity-wrapper\" style=\"background-color: #8A5C0A\"><span class=\"spark-nlp-display-entity-name\">Greenacre School </span><span class=\"spark-nlp-display-entity-type\">ORG</span></span><span class=\"spark-nlp-display-others\" style=\"background-color: white\"> in </span><span class=\"spark-nlp-display-entity-wrapper\" style=\"background-color: #a6b1e1\"><span class=\"spark-nlp-display-entity-name\">September </span><span class=\"spark-nlp-display-entity-type\">DATE</span></span><span class=\"spark-nlp-display-others\" style=\"background-color: white\">. She enjoys it and the teachers are <br>pleased with her progress.  Her mother has been taking  her to school by car but this is  <br> <br> </span><span class=\"spark-nlp-display-entity-wrapper\" style=\"background-color: #2FC740\"><span class=\"spark-nlp-display-entity-name\">15 </span><span class=\"spark-nlp-display-entity-type\">CARDINAL</span></span><span class=\"spark-nlp-display-others\" style=\"background-color: white\"> <br> becoming an increasing problem as due to recent changes  at work she now has to start <br>work at </span><span class=\"spark-nlp-display-entity-wrapper\" style=\"background-color: #3F7C67\"><span class=\"spark-nlp-display-entity-name\">8:30 </span><span class=\"spark-nlp-display-entity-type\">TIME</span></span><span class=\"spark-nlp-display-others\" style=\"background-color: white\">. Unfortunately </span><span class=\"spark-nlp-display-entity-wrapper\" style=\"background-color: #72577A\"><span class=\"spark-nlp-display-entity-name\">Mary </span><span class=\"spark-nlp-display-entity-type\">PERSON</span></span><span class=\"spark-nlp-display-others\" style=\"background-color: white\"> is not eligible for free school transport until she is </span><span class=\"spark-nlp-display-entity-wrapper\" style=\"background-color: #a6b1e1\"><span class=\"spark-nlp-display-entity-name\">five <br>years old </span><span class=\"spark-nlp-display-entity-type\">DATE</span></span><span class=\"spark-nlp-display-others\" style=\"background-color: white\">. The home -school liaison teacher is trying to come to an agreement with the <br>local authority to enable </span><span class=\"spark-nlp-display-entity-wrapper\" style=\"background-color: #72577A\"><span class=\"spark-nlp-display-entity-name\">Mary </span><span class=\"spark-nlp-display-entity-type\">PERSON</span></span><span class=\"spark-nlp-display-others\" style=\"background-color: white\"> to use school trans port.  The teacher for visual impairment <br>has seen her in school and recommended that she use large print books and a magnifying <br>glass.  <br> <br></span><span class=\"spark-nlp-display-entity-wrapper\" style=\"background-color: #174D05\"><span class=\"spark-nlp-display-entity-name\">Review of systems  <br>Neurodevelopmental  assessment  <br>Mary </span><span class=\"spark-nlp-display-entity-type\">WORK_OF_ART</span></span><span class=\"spark-nlp-display-others\" style=\"background-color: white\"> can now sit unsupported for </span><span class=\"spark-nlp-display-entity-wrapper\" style=\"background-color: #3F7C67\"><span class=\"spark-nlp-display-entity-name\">about 30 seconds </span><span class=\"spark-nlp-display-entity-type\">TIME</span></span><span class=\"spark-nlp-display-others\" style=\"background-color: white\">. When lying prone she can draw her knees up underneath her <br>but does not make any attempts to move. In clinic she was able to complete the circle and square form board but <br>cannot do them reversed. She can say </span><span class=\"spark-nlp-display-entity-wrapper\" style=\"background-color: #2FC740\"><span class=\"spark-nlp-display-entity-name\">10 </span><span class=\"spark-nlp-display-entity-type\">CARDINAL</span></span><span class=\"spark-nlp-display-others\" style=\"background-color: white\"> words with meaning and her mother feels she can understan d far more. <br>She is able to finger feed and will drink from a cup if it is held for her. She is becoming more sociable and has a <br>lovely smile.  <br> <br>Examination findings  <br>Musculosketal system & nervous <br>system  </span><span class=\"spark-nlp-display-entity-wrapper\" style=\"background-color: #72577A\"><span class=\"spark-nlp-display-entity-name\">Mary's </span><span class=\"spark-nlp-display-entity-type\">PERSON</span></span><span class=\"spark-nlp-display-others\" style=\"background-color: white\"> ankles both dorsiflex  to 90°.  Her hips are very tight; the right hip only <br>abducts to </span><span class=\"spark-nlp-display-entity-wrapper\" style=\"background-color: #2FC740\"><span class=\"spark-nlp-display-entity-name\">30° </span><span class=\"spark-nlp-display-entity-type\">CARDINAL</span></span><span class=\"spark-nlp-display-others\" style=\"background-color: white\"> and the left hip to </span><span class=\"spark-nlp-display-entity-wrapper\" style=\"background-color: #2FC740\"><span class=\"spark-nlp-display-entity-name\">45° </span><span class=\"spark-nlp-display-entity-type\">CARDINAL</span></span><span class=\"spark-nlp-display-others\" style=\"background-color: white\">. The right hip has deteriorated . <br>Dental  No evidence of dental caries.  <br> <br>Plan and requested action s   <br> <br>Actions for patient or their carer  <br>Mrs. </span><span class=\"spark-nlp-display-entity-wrapper\" style=\"background-color: #72577A\"><span class=\"spark-nlp-display-entity-name\">Jones </span><span class=\"spark-nlp-display-entity-type\">PERSON</span></span><span class=\"spark-nlp-display-others\" style=\"background-color: white\"> to contact epilepsy nurse on </span><span class=\"spark-nlp-display-entity-wrapper\" style=\"background-color: #a6b1e1\"><span class=\"spark-nlp-display-entity-name\">01226 730000 </span><span class=\"spark-nlp-display-entity-type\">DATE</span></span><span class=\"spark-nlp-display-others\" style=\"background-color: white\"> if she has any concerns regarding convulsions  or <br>the medication change  documented below . <br> <br> <br>Action s for healthcare professionals                                                               Action by:  <br></span><span class=\"spark-nlp-display-entity-wrapper\" style=\"background-color: #8A5C0A\"><span class=\"spark-nlp-display-entity-name\">Request </span><span class=\"spark-nlp-display-entity-type\">ORG</span></span><span class=\"spark-nlp-display-others\" style=\"background-color: white\"> to orthopaedics for early appointment for advice on <br>deteriorating right hip  <br> </span><span class=\"spark-nlp-display-entity-wrapper\" style=\"background-color: #72577A\"><span class=\"spark-nlp-display-entity-name\">Dr </span><span class=\"spark-nlp-display-entity-type\">PERSON</span></span><span class=\"spark-nlp-display-others\" style=\"background-color: white\">. </span><span class=\"spark-nlp-display-entity-wrapper\" style=\"background-color: #72577A\"><span class=\"spark-nlp-display-entity-name\">Adam Rimmer </span><span class=\"spark-nlp-display-entity-type\">PERSON</span></span><span class=\"spark-nlp-display-others\" style=\"background-color: white\">, </span><span class=\"spark-nlp-display-entity-wrapper\" style=\"background-color: #a6b1e1\"><span class=\"spark-nlp-display-entity-name\">01/05/17 </span><span class=\"spark-nlp-display-entity-type\">DATE</span></span><span class=\"spark-nlp-display-others\" style=\"background-color: white\">  <br>Letter of support to  the local authority  education department <br>regarding school transport  <br> Dr. </span><span class=\"spark-nlp-display-entity-wrapper\" style=\"background-color: #72577A\"><span class=\"spark-nlp-display-entity-name\">Adam Rimmer </span><span class=\"spark-nlp-display-entity-type\">PERSON</span></span><span class=\"spark-nlp-display-others\" style=\"background-color: white\">, </span><span class=\"spark-nlp-display-entity-wrapper\" style=\"background-color: #174D05\"><span class=\"spark-nlp-display-entity-name\">01/05/17  <br>Review </span><span class=\"spark-nlp-display-entity-type\">WORK_OF_ART</span></span><span class=\"spark-nlp-display-others\" style=\"background-color: white\"> medication with Sally’s mother by telephone in </span><span class=\"spark-nlp-display-entity-wrapper\" style=\"background-color: #a6b1e1\"><span class=\"spark-nlp-display-entity-name\">two weeks </span><span class=\"spark-nlp-display-entity-type\">DATE</span></span><span class=\"spark-nlp-display-others\" style=\"background-color: white\"> . Mr </span><span class=\"spark-nlp-display-entity-wrapper\" style=\"background-color: #72577A\"><span class=\"spark-nlp-display-entity-name\">Phil Brown </span><span class=\"spark-nlp-display-entity-type\">PERSON</span></span><span class=\"spark-nlp-display-others\" style=\"background-color: white\">, epilepsy nurse  <br> <br>Medication and medical devices  <br>(only changes to medications and medical devices as a result of the outpatient encounter are included)  <br>Medication name  </span><span class=\"spark-nlp-display-entity-wrapper\" style=\"background-color: #751F87\"><span class=\"spark-nlp-display-entity-name\">Lamotrigine  <br>Form Dispersible </span><span class=\"spark-nlp-display-entity-type\">PRODUCT</span></span><span class=\"spark-nlp-display-others\" style=\"background-color: white\"> tablets  <br>Route  Via gastrostomy  <br>Dose  10 mg <br>Dose direction  Twice a day  <br>Status  Amended  <br>Reason for medication <br>change  Increasing tonic -clonic  convulsions  <br>Date of latest change  </span><span class=\"spark-nlp-display-entity-wrapper\" style=\"background-color: #a6b1e1\"><span class=\"spark-nlp-display-entity-name\">01/05/17 </span><span class=\"spark-nlp-display-entity-type\">DATE</span></span><span class=\"spark-nlp-display-others\" style=\"background-color: white\">  <br>Medication change  Increase to 10mg twice daily  <br>Comment /recommendation  </span><span class=\"spark-nlp-display-entity-wrapper\" style=\"background-color: #2FC740\"><span class=\"spark-nlp-display-entity-name\">14-day </span><span class=\"spark-nlp-display-entity-type\">CARDINAL</span></span><span class=\"spark-nlp-display-others\" style=\"background-color: white\"> prescription provided, please p rovide a new prescription on parent’s <br>request . <br>Total dose daily quantity  </span><span class=\"spark-nlp-display-entity-wrapper\" style=\"background-color: #2FC740\"><span class=\"spark-nlp-display-entity-name\">20mg  <br> <br>  <br> <br> 16 </span><span class=\"spark-nlp-display-entity-type\">CARDINAL</span></span><span class=\"spark-nlp-display-others\" style=\"background-color: white\"> <br> Yours  sincerely  <br> <br> <br>Person  completing  record : Dr. </span><span class=\"spark-nlp-display-entity-wrapper\" style=\"background-color: #72577A\"><span class=\"spark-nlp-display-entity-name\">Adam  Rimmer </span><span class=\"spark-nlp-display-entity-type\">PERSON</span></span><span class=\"spark-nlp-display-others\" style=\"background-color: white\">,  </span><span class=\"spark-nlp-display-entity-wrapper\" style=\"background-color: #8A5C0A\"><span class=\"spark-nlp-display-entity-name\">Consultant </span><span class=\"spark-nlp-display-entity-type\">ORG</span></span><span class=\"spark-nlp-display-others\" style=\"background-color: white\">  community  paediatrician;  Date:  </span><span class=\"spark-nlp-display-entity-wrapper\" style=\"background-color: #2FC740\"><span class=\"spark-nlp-display-entity-name\">01/05/17 </span><span class=\"spark-nlp-display-entity-type\">CARDINAL</span></span><span class=\"spark-nlp-display-others\" style=\"background-color: white\"> : </span><span class=\"spark-nlp-display-entity-wrapper\" style=\"background-color: #2FC740\"><span class=\"spark-nlp-display-entity-name\">16:42 </span><span class=\"spark-nlp-display-entity-type\">CARDINAL</span></span><span class=\"spark-nlp-display-others\" style=\"background-color: white\">  <br> <br>Distribution  list: </span><span class=\"spark-nlp-display-entity-wrapper\" style=\"background-color: #72577A\"><span class=\"spark-nlp-display-entity-name\">Sally  & Ian Jones </span><span class=\"spark-nlp-display-entity-type\">PERSON</span></span><span class=\"spark-nlp-display-others\" style=\"background-color: white\">  (patient’s  parents);   <br>Dr.  C. O’Reilly  (GP)  <br>Dr. Charlotte  Worth,  Consultant  orthopaedic  physician,  </span><span class=\"spark-nlp-display-entity-wrapper\" style=\"background-color: #8A5C0A\"><span class=\"spark-nlp-display-entity-name\">St. Crispin’s  Hospital </span><span class=\"spark-nlp-display-entity-type\">ORG</span></span><span class=\"spark-nlp-display-others\" style=\"background-color: white\">;  <br>Mr. </span><span class=\"spark-nlp-display-entity-wrapper\" style=\"background-color: #72577A\"><span class=\"spark-nlp-display-entity-name\">Philip  Brown </span><span class=\"spark-nlp-display-entity-type\">PERSON</span></span><span class=\"spark-nlp-display-others\" style=\"background-color: white\">,  epilepsy  nurse,  </span><span class=\"spark-nlp-display-entity-wrapper\" style=\"background-color: #8A5C0A\"><span class=\"spark-nlp-display-entity-name\">St. Crispin’s  Hospital </span><span class=\"spark-nlp-display-entity-type\">ORG</span></span><span class=\"spark-nlp-display-others\" style=\"background-color: white\"><br>    </span></div>"
            ]
          },
          "metadata": {}
        }
      ],
      "source": [
        "# Visualisation\n",
        "from sparknlp_display import NerVisualizer\n",
        "\n",
        "NerVisualizer().display(\n",
        "    result = result.collect()[0],\n",
        "    label_col = 'ner_chunk',\n",
        "    document_col = 'document'\n",
        ")"
      ]
    }
  ],
  "metadata": {
    "colab": {
      "provenance": []
    },
    "interpreter": {
      "hash": "45150093197569bb3a58481dcd32cd1adb45462fa3448719e8ac38ada6166aca"
    },
    "kernelspec": {
      "display_name": "Python 3.6.10 64-bit ('tensorflow2_p36': conda)",
      "name": "python3"
    },
    "language_info": {
      "codemirror_mode": {
        "name": "ipython",
        "version": 3
      },
      "file_extension": ".py",
      "mimetype": "text/x-python",
      "name": "python",
      "nbconvert_exporter": "python",
      "pygments_lexer": "ipython3",
      "version": "3.6.10"
    }
  },
  "nbformat": 4,
  "nbformat_minor": 0
}